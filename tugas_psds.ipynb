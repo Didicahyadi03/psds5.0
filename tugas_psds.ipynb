{
  "nbformat": 4,
  "nbformat_minor": 0,
  "metadata": {
    "colab": {
      "provenance": []
    },
    "kernelspec": {
      "name": "python3",
      "display_name": "Python 3"
    },
    "language_info": {
      "name": "python"
    }
  },
  "cells": [
    {
      "cell_type": "code",
      "execution_count": 1,
      "metadata": {
        "colab": {
          "base_uri": "https://localhost:8080/"
        },
        "id": "uQ23eXqCNCBr",
        "outputId": "cb39bc1f-9e45-498d-cdb2-1a65a623b3b3"
      },
      "outputs": [
        {
          "output_type": "stream",
          "name": "stdout",
          "text": [
            "belajar Phyton menyenangkan\n",
            "halo dunia\n"
          ]
        }
      ],
      "source": [
        "print(\"belajar Phyton menyenangkan\")\n",
        "print(\"halo dunia\")"
      ]
    },
    {
      "cell_type": "code",
      "source": [
        "bilangan1 = 5\n",
        "bilangan2 = 10\n",
        "kalimat = \"Pejuang Data 3\""
      ],
      "metadata": {
        "id": "ReoRwaikNK17"
      },
      "execution_count": 4,
      "outputs": []
    },
    {
      "cell_type": "code",
      "source": [
        "bilangan1 + bilangan2\n"
      ],
      "metadata": {
        "colab": {
          "base_uri": "https://localhost:8080/"
        },
        "id": "pTfomKESNQ80",
        "outputId": "ce59b8b9-8bab-4904-dd8a-54e69356c186"
      },
      "execution_count": 5,
      "outputs": [
        {
          "output_type": "execute_result",
          "data": {
            "text/plain": [
              "15"
            ]
          },
          "metadata": {},
          "execution_count": 5
        }
      ]
    },
    {
      "cell_type": "code",
      "source": [
        "# Ini adalah Comment\n",
        "print(\"belajar Phyton\")"
      ],
      "metadata": {
        "colab": {
          "base_uri": "https://localhost:8080/"
        },
        "id": "LDKdtvwQNVz6",
        "outputId": "62621f30-691a-4a5f-9f4a-8f2fb112eb87"
      },
      "execution_count": 6,
      "outputs": [
        {
          "output_type": "stream",
          "name": "stdout",
          "text": [
            "belajar Phyton\n"
          ]
        }
      ]
    },
    {
      "cell_type": "code",
      "source": [
        "'''Ini adalah komentar panjang\n",
        "Bisa digunakan untuk memberikan penjelasan\n",
        "panjang pada Sell Kode Phyton,\n",
        "Misal dokumentasi program, spesifikasi\n",
        "input output atau lainnya'''\n",
        "print('Belajar Phyton menyenangkan')"
      ],
      "metadata": {
        "colab": {
          "base_uri": "https://localhost:8080/"
        },
        "id": "p1DSOOm2NiXr",
        "outputId": "ed247267-e21a-435b-ed89-857b4e5792b3"
      },
      "execution_count": 8,
      "outputs": [
        {
          "output_type": "stream",
          "name": "stdout",
          "text": [
            "Belajar Phyton menyenangkan\n"
          ]
        }
      ]
    }
  ]
}