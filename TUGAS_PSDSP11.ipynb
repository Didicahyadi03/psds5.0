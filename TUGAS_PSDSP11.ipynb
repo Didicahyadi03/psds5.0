{
  "nbformat": 4,
  "nbformat_minor": 0,
  "metadata": {
    "colab": {
      "provenance": []
    },
    "kernelspec": {
      "name": "python3",
      "display_name": "Python 3"
    },
    "language_info": {
      "name": "python"
    }
  },
  "cells": [
    {
      "cell_type": "code",
      "execution_count": 1,
      "metadata": {
        "colab": {
          "base_uri": "https://localhost:8080/"
        },
        "id": "Ud2e0zUOV4n3",
        "outputId": "655ff6df-63be-4503-851f-c62ff63ffdf3"
      },
      "outputs": [
        {
          "output_type": "stream",
          "name": "stdout",
          "text": [
            "hello, Didi\n",
            "hello, Yadi\n"
          ]
        }
      ],
      "source": [
        "greeting = lambda name : print(f\"hello, {name}\")\n",
        "greeting(\"Didi\")\n",
        "greeting(\"Yadi\")"
      ]
    },
    {
      "cell_type": "code",
      "source": [
        "f = lambda x : x + 10\n",
        "val1 = f(6)\n",
        "val2 = f(100)\n",
        "print(val1, val2)"
      ],
      "metadata": {
        "colab": {
          "base_uri": "https://localhost:8080/"
        },
        "id": "9-_DyQqqWY6J",
        "outputId": "23b55ec0-5165-4b6d-c02f-491e1c9ef1dc"
      },
      "execution_count": 3,
      "outputs": [
        {
          "output_type": "stream",
          "name": "stdout",
          "text": [
            "16 110\n"
          ]
        }
      ]
    },
    {
      "cell_type": "code",
      "source": [
        "f = lambda x,y : x*y\n",
        "val3 = f(3,30)\n",
        "val4 = f(7,5)\n",
        "print(val3, val4)"
      ],
      "metadata": {
        "colab": {
          "base_uri": "https://localhost:8080/"
        },
        "id": "u-_gWKL1Ws-F",
        "outputId": "88a2acf0-e2b5-4ed0-e73f-3b756e756949"
      },
      "execution_count": 5,
      "outputs": [
        {
          "output_type": "stream",
          "name": "stdout",
          "text": [
            "90 35\n"
          ]
        }
      ]
    },
    {
      "cell_type": "markdown",
      "source": [
        "1. Buatlah fungsi lambda untuk menghitung fungsi dari persegi panjang"
      ],
      "metadata": {
        "id": "zo6dYq7AYX3s"
      }
    },
    {
      "cell_type": "code",
      "source": [
        "f = lambda p,l : p*l\n",
        "val5 = f(100,3)\n",
        "print(val5)"
      ],
      "metadata": {
        "colab": {
          "base_uri": "https://localhost:8080/"
        },
        "id": "iv3Q86urYlPC",
        "outputId": "9265b28b-9de7-4bd2-c54d-a752e5bdeb9d"
      },
      "execution_count": 6,
      "outputs": [
        {
          "output_type": "stream",
          "name": "stdout",
          "text": [
            "300\n"
          ]
        }
      ]
    },
    {
      "cell_type": "markdown",
      "source": [
        "2. Buatlah fungsi lambda untuk menghitung luas segitiga"
      ],
      "metadata": {
        "id": "L0ZIJJIzaCdo"
      }
    },
    {
      "cell_type": "code",
      "source": [
        "f = lambda a,t : (a*t)/2\n",
        "val6 = f(7,25)\n",
        "print(val6)"
      ],
      "metadata": {
        "colab": {
          "base_uri": "https://localhost:8080/"
        },
        "id": "4dKhPbTdaHFr",
        "outputId": "a68de736-fdcf-4035-ea08-df1ad6bf598a"
      },
      "execution_count": 8,
      "outputs": [
        {
          "output_type": "stream",
          "name": "stdout",
          "text": [
            "87.5\n"
          ]
        }
      ]
    }
  ]
}